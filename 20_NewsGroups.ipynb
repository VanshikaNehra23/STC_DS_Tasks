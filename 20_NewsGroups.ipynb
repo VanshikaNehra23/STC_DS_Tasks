{
 "cells": [
  {
   "cell_type": "code",
   "execution_count": 1,
   "id": "protecting-kingdom",
   "metadata": {},
   "outputs": [],
   "source": [
    "import pandas as pd\n",
    "import os\n",
    "\n",
    "def convert_dir_to_csv(dir_path):\n",
    "    files = os.listdir(dir_path)\n",
    "    files.remove('list.csv')\n",
    "    dataset_dict ={\"category\":[], \"articles\":[]}\n",
    "    for i in files:\n",
    "        with open(dir_path+'/'+i, 'r+',encoding='latin1') as f:\n",
    "            dataset_dict[\"articles\"].append(f.read())\n",
    "        dataset_dict[\"category\"].append(i[:len(i)-4])\n",
    "\n",
    "    df = pd.DataFrame(dataset_dict)\n",
    "    return df\n",
    "\n",
    "dataframe = convert_dir_to_csv('20_NewsGroups')"
   ]
  },
  {
   "cell_type": "code",
   "execution_count": 2,
   "id": "greek-agenda",
   "metadata": {},
   "outputs": [],
   "source": [
    "import pandas as pd\n",
    "import os\n",
    "\n",
    "def convert_dir_to_csv(dir_path):\n",
    "    files2 = os.listdir(dir_path)\n",
    "    dataset_dict2 ={\"category\":[], \"articles\":[]}\n",
    "    for i in files2:\n",
    "        with open(dir_path+'/'+i, 'r+',encoding='latin1') as f:\n",
    "            dataset_dict2[\"articles\"].append(f.read())\n",
    "        dataset_dict2[\"category\"].append(i[:len(i)-4])\n",
    "\n",
    "    df = pd.DataFrame(dataset_dict2)\n",
    "    return df\n",
    "\n",
    "\n",
    "\n",
    "testing = convert_dir_to_csv('testing')\n"
   ]
  },
  {
   "cell_type": "code",
   "execution_count": 3,
   "id": "sought-madagascar",
   "metadata": {},
   "outputs": [
    {
     "data": {
      "text/html": [
       "<div>\n",
       "<style scoped>\n",
       "    .dataframe tbody tr th:only-of-type {\n",
       "        vertical-align: middle;\n",
       "    }\n",
       "\n",
       "    .dataframe tbody tr th {\n",
       "        vertical-align: top;\n",
       "    }\n",
       "\n",
       "    .dataframe thead th {\n",
       "        text-align: right;\n",
       "    }\n",
       "</style>\n",
       "<table border=\"1\" class=\"dataframe\">\n",
       "  <thead>\n",
       "    <tr style=\"text-align: right;\">\n",
       "      <th></th>\n",
       "      <th>category</th>\n",
       "      <th>articles</th>\n",
       "    </tr>\n",
       "  </thead>\n",
       "  <tbody>\n",
       "    <tr>\n",
       "      <th>0</th>\n",
       "      <td>alt.atheism</td>\n",
       "      <td>From: mathew &lt;mathew@mantis.co.uk&gt;\\nSubject: A...</td>\n",
       "    </tr>\n",
       "    <tr>\n",
       "      <th>1</th>\n",
       "      <td>comp.graphics</td>\n",
       "      <td>From: lipman@oasys.dt.navy.mil (Robert Lipman)...</td>\n",
       "    </tr>\n",
       "    <tr>\n",
       "      <th>2</th>\n",
       "      <td>comp.os.ms-windows.misc</td>\n",
       "      <td>Newsgroup: comp.os.ms-windows.misc\\ndocument_i...</td>\n",
       "    </tr>\n",
       "    <tr>\n",
       "      <th>3</th>\n",
       "      <td>comp.sys.ibm.pc.hardware</td>\n",
       "      <td>Newsgroup: comp.sys.ibm.pc.hardware\\ndocument_...</td>\n",
       "    </tr>\n",
       "    <tr>\n",
       "      <th>4</th>\n",
       "      <td>comp.sys.mac.hardware</td>\n",
       "      <td>Newsgroup: comp.sys.mac.hardware\\ndocument_id:...</td>\n",
       "    </tr>\n",
       "    <tr>\n",
       "      <th>5</th>\n",
       "      <td>comp.windows.x</td>\n",
       "      <td>Newsgroup: comp.windows.x\\ndocument_id: 64830\\...</td>\n",
       "    </tr>\n",
       "    <tr>\n",
       "      <th>6</th>\n",
       "      <td>misc.forsale</td>\n",
       "      <td>Newsgroup: misc.forsale\\ndocument_id: 70337\\nF...</td>\n",
       "    </tr>\n",
       "    <tr>\n",
       "      <th>7</th>\n",
       "      <td>rec.autos</td>\n",
       "      <td>Newsgroup: rec.autos\\ndocument_id: 101551\\nFro...</td>\n",
       "    </tr>\n",
       "    <tr>\n",
       "      <th>8</th>\n",
       "      <td>rec.motorcycles</td>\n",
       "      <td>Newsgroup: rec.motorcycles\\ndocument_id: 10172...</td>\n",
       "    </tr>\n",
       "    <tr>\n",
       "      <th>9</th>\n",
       "      <td>rec.sport.baseball</td>\n",
       "      <td>Newsgroup: rec.sport.baseball\\ndocument_id: 10...</td>\n",
       "    </tr>\n",
       "    <tr>\n",
       "      <th>10</th>\n",
       "      <td>rec.sport.hockey</td>\n",
       "      <td>Newsgroup: rec.sport.hockey\\ndocument_id: 5255...</td>\n",
       "    </tr>\n",
       "    <tr>\n",
       "      <th>11</th>\n",
       "      <td>sci.crypt</td>\n",
       "      <td>Newsgroup: sci.crypt\\ndocument_id: 14147\\nFrom...</td>\n",
       "    </tr>\n",
       "    <tr>\n",
       "      <th>12</th>\n",
       "      <td>sci.electronics</td>\n",
       "      <td>Newsgroup: sci.electronics\\ndocument_id: 52434...</td>\n",
       "    </tr>\n",
       "    <tr>\n",
       "      <th>13</th>\n",
       "      <td>sci.med</td>\n",
       "      <td>Newsgroup: sci.med\\ndocument_id: 57110\\nFrom: ...</td>\n",
       "    </tr>\n",
       "    <tr>\n",
       "      <th>14</th>\n",
       "      <td>sci.space</td>\n",
       "      <td>Newsgroup: sci.space\\ndocument_id: 59497\\nFrom...</td>\n",
       "    </tr>\n",
       "    <tr>\n",
       "      <th>15</th>\n",
       "      <td>soc.religion.christian</td>\n",
       "      <td>Newsgroup: soc.religion.christian\\ndocument_id...</td>\n",
       "    </tr>\n",
       "    <tr>\n",
       "      <th>16</th>\n",
       "      <td>talk.politics.guns</td>\n",
       "      <td>Newsgroup: talk.politics.guns\\ndocument_id: 53...</td>\n",
       "    </tr>\n",
       "    <tr>\n",
       "      <th>17</th>\n",
       "      <td>talk.politics.mideast</td>\n",
       "      <td>Newsgroup: talk.politics.mideast\\ndocument_id:...</td>\n",
       "    </tr>\n",
       "    <tr>\n",
       "      <th>18</th>\n",
       "      <td>talk.politics.misc</td>\n",
       "      <td>Newsgroup: talk.politics.misc\\ndocument_id: 12...</td>\n",
       "    </tr>\n",
       "    <tr>\n",
       "      <th>19</th>\n",
       "      <td>talk.religion.misc</td>\n",
       "      <td>Newsgroup: talk.religion.misc\\ndocument_id: 82...</td>\n",
       "    </tr>\n",
       "  </tbody>\n",
       "</table>\n",
       "</div>"
      ],
      "text/plain": [
       "                    category  \\\n",
       "0                alt.atheism   \n",
       "1              comp.graphics   \n",
       "2    comp.os.ms-windows.misc   \n",
       "3   comp.sys.ibm.pc.hardware   \n",
       "4      comp.sys.mac.hardware   \n",
       "5             comp.windows.x   \n",
       "6               misc.forsale   \n",
       "7                  rec.autos   \n",
       "8            rec.motorcycles   \n",
       "9         rec.sport.baseball   \n",
       "10          rec.sport.hockey   \n",
       "11                 sci.crypt   \n",
       "12           sci.electronics   \n",
       "13                   sci.med   \n",
       "14                 sci.space   \n",
       "15    soc.religion.christian   \n",
       "16        talk.politics.guns   \n",
       "17     talk.politics.mideast   \n",
       "18        talk.politics.misc   \n",
       "19        talk.religion.misc   \n",
       "\n",
       "                                             articles  \n",
       "0   From: mathew <mathew@mantis.co.uk>\\nSubject: A...  \n",
       "1   From: lipman@oasys.dt.navy.mil (Robert Lipman)...  \n",
       "2   Newsgroup: comp.os.ms-windows.misc\\ndocument_i...  \n",
       "3   Newsgroup: comp.sys.ibm.pc.hardware\\ndocument_...  \n",
       "4   Newsgroup: comp.sys.mac.hardware\\ndocument_id:...  \n",
       "5   Newsgroup: comp.windows.x\\ndocument_id: 64830\\...  \n",
       "6   Newsgroup: misc.forsale\\ndocument_id: 70337\\nF...  \n",
       "7   Newsgroup: rec.autos\\ndocument_id: 101551\\nFro...  \n",
       "8   Newsgroup: rec.motorcycles\\ndocument_id: 10172...  \n",
       "9   Newsgroup: rec.sport.baseball\\ndocument_id: 10...  \n",
       "10  Newsgroup: rec.sport.hockey\\ndocument_id: 5255...  \n",
       "11  Newsgroup: sci.crypt\\ndocument_id: 14147\\nFrom...  \n",
       "12  Newsgroup: sci.electronics\\ndocument_id: 52434...  \n",
       "13  Newsgroup: sci.med\\ndocument_id: 57110\\nFrom: ...  \n",
       "14  Newsgroup: sci.space\\ndocument_id: 59497\\nFrom...  \n",
       "15  Newsgroup: soc.religion.christian\\ndocument_id...  \n",
       "16  Newsgroup: talk.politics.guns\\ndocument_id: 53...  \n",
       "17  Newsgroup: talk.politics.mideast\\ndocument_id:...  \n",
       "18  Newsgroup: talk.politics.misc\\ndocument_id: 12...  \n",
       "19  Newsgroup: talk.religion.misc\\ndocument_id: 82...  "
      ]
     },
     "execution_count": 3,
     "metadata": {},
     "output_type": "execute_result"
    }
   ],
   "source": [
    "dataframe"
   ]
  },
  {
   "cell_type": "code",
   "execution_count": 4,
   "id": "silent-stylus",
   "metadata": {},
   "outputs": [
    {
     "data": {
      "text/html": [
       "<div>\n",
       "<style scoped>\n",
       "    .dataframe tbody tr th:only-of-type {\n",
       "        vertical-align: middle;\n",
       "    }\n",
       "\n",
       "    .dataframe tbody tr th {\n",
       "        vertical-align: top;\n",
       "    }\n",
       "\n",
       "    .dataframe thead th {\n",
       "        text-align: right;\n",
       "    }\n",
       "</style>\n",
       "<table border=\"1\" class=\"dataframe\">\n",
       "  <thead>\n",
       "    <tr style=\"text-align: right;\">\n",
       "      <th></th>\n",
       "      <th>category</th>\n",
       "      <th>articles</th>\n",
       "    </tr>\n",
       "  </thead>\n",
       "  <tbody>\n",
       "    <tr>\n",
       "      <th>0</th>\n",
       "      <td>rec.sport.baseball</td>\n",
       "      <td>Henry Aaron, who died in January, will forever...</td>\n",
       "    </tr>\n",
       "    <tr>\n",
       "      <th>1</th>\n",
       "      <td>sci.space</td>\n",
       "      <td>Being able to accurately detect changes to Ear...</td>\n",
       "    </tr>\n",
       "    <tr>\n",
       "      <th>2</th>\n",
       "      <td>talk.politics.mideast</td>\n",
       "      <td>Prime Minister Benjamin Netanyahuâs party wo...</td>\n",
       "    </tr>\n",
       "  </tbody>\n",
       "</table>\n",
       "</div>"
      ],
      "text/plain": [
       "                category                                           articles\n",
       "0     rec.sport.baseball  Henry Aaron, who died in January, will forever...\n",
       "1              sci.space  Being able to accurately detect changes to Ear...\n",
       "2  talk.politics.mideast  Prime Minister Benjamin Netanyahuâs party wo..."
      ]
     },
     "execution_count": 4,
     "metadata": {},
     "output_type": "execute_result"
    }
   ],
   "source": [
    "testing"
   ]
  },
  {
   "cell_type": "code",
   "execution_count": 5,
   "id": "liked-failing",
   "metadata": {},
   "outputs": [],
   "source": [
    "import tensorflow as tf\n",
    "from tensorflow.keras.preprocessing.text import Tokenizer\n",
    "from tensorflow.keras.preprocessing.sequence import pad_sequences\n",
    "from tensorflow.keras.layers import Dense, Input, GlobalMaxPooling1D\n",
    "from tensorflow.keras.layers import LSTM,Embedding\n",
    "from tensorflow.keras.models import Model\n",
    "\n",
    "import numpy as np\n",
    "import matplotlib.pyplot as plt\n",
    "from sklearn.model_selection import train_test_split"
   ]
  },
  {
   "cell_type": "code",
   "execution_count": 6,
   "id": "comprehensive-street",
   "metadata": {},
   "outputs": [],
   "source": [
    "dataframe['b_labels']=dataframe['category'].map({\"alt.atheism\":0,\"comp.graphics\":1,\"comp.os.ms-windows.misc\":2,\"comp.sys.ibm.pc.hardware\":3,\n",
    "                \"comp.sys.mac.hardware\":4,\"comp.windows.x\":5,\"misc.forsale\":6,\"rec.autos\":7,\"rec.motorcycles\":8,\n",
    "                \"rec.sport.baseball\":9,\"rec.sport.hockey\":10,\"sci.crypt\":11,\"sci.electronics\":12,\"sci.med\":13,\n",
    "                \"sci.space\":14,\"soc.religion.christian\":15,\"talk.politics.guns\":16,\"talk.politics.mideast\":17,\n",
    "                \"talk.politics.misc\":18,\"talk.religion.misc\":19})\n",
    "Y=dataframe['b_labels'].values"
   ]
  },
  {
   "cell_type": "code",
   "execution_count": 7,
   "id": "cheap-album",
   "metadata": {},
   "outputs": [],
   "source": [
    "testing['b_labels']=testing['category'].map({\"rec.sport.baseball\":9,\"sci.space\":14,\"talk.politics.mideast\":17})"
   ]
  },
  {
   "cell_type": "code",
   "execution_count": 8,
   "id": "unexpected-cooking",
   "metadata": {},
   "outputs": [
    {
     "data": {
      "text/html": [
       "<div>\n",
       "<style scoped>\n",
       "    .dataframe tbody tr th:only-of-type {\n",
       "        vertical-align: middle;\n",
       "    }\n",
       "\n",
       "    .dataframe tbody tr th {\n",
       "        vertical-align: top;\n",
       "    }\n",
       "\n",
       "    .dataframe thead th {\n",
       "        text-align: right;\n",
       "    }\n",
       "</style>\n",
       "<table border=\"1\" class=\"dataframe\">\n",
       "  <thead>\n",
       "    <tr style=\"text-align: right;\">\n",
       "      <th></th>\n",
       "      <th>category</th>\n",
       "      <th>articles</th>\n",
       "      <th>b_labels</th>\n",
       "    </tr>\n",
       "  </thead>\n",
       "  <tbody>\n",
       "    <tr>\n",
       "      <th>0</th>\n",
       "      <td>alt.atheism</td>\n",
       "      <td>From: mathew &lt;mathew@mantis.co.uk&gt;\\nSubject: A...</td>\n",
       "      <td>0</td>\n",
       "    </tr>\n",
       "    <tr>\n",
       "      <th>1</th>\n",
       "      <td>comp.graphics</td>\n",
       "      <td>From: lipman@oasys.dt.navy.mil (Robert Lipman)...</td>\n",
       "      <td>1</td>\n",
       "    </tr>\n",
       "    <tr>\n",
       "      <th>2</th>\n",
       "      <td>comp.os.ms-windows.misc</td>\n",
       "      <td>Newsgroup: comp.os.ms-windows.misc\\ndocument_i...</td>\n",
       "      <td>2</td>\n",
       "    </tr>\n",
       "    <tr>\n",
       "      <th>3</th>\n",
       "      <td>comp.sys.ibm.pc.hardware</td>\n",
       "      <td>Newsgroup: comp.sys.ibm.pc.hardware\\ndocument_...</td>\n",
       "      <td>3</td>\n",
       "    </tr>\n",
       "    <tr>\n",
       "      <th>4</th>\n",
       "      <td>comp.sys.mac.hardware</td>\n",
       "      <td>Newsgroup: comp.sys.mac.hardware\\ndocument_id:...</td>\n",
       "      <td>4</td>\n",
       "    </tr>\n",
       "    <tr>\n",
       "      <th>5</th>\n",
       "      <td>comp.windows.x</td>\n",
       "      <td>Newsgroup: comp.windows.x\\ndocument_id: 64830\\...</td>\n",
       "      <td>5</td>\n",
       "    </tr>\n",
       "    <tr>\n",
       "      <th>6</th>\n",
       "      <td>misc.forsale</td>\n",
       "      <td>Newsgroup: misc.forsale\\ndocument_id: 70337\\nF...</td>\n",
       "      <td>6</td>\n",
       "    </tr>\n",
       "    <tr>\n",
       "      <th>7</th>\n",
       "      <td>rec.autos</td>\n",
       "      <td>Newsgroup: rec.autos\\ndocument_id: 101551\\nFro...</td>\n",
       "      <td>7</td>\n",
       "    </tr>\n",
       "    <tr>\n",
       "      <th>8</th>\n",
       "      <td>rec.motorcycles</td>\n",
       "      <td>Newsgroup: rec.motorcycles\\ndocument_id: 10172...</td>\n",
       "      <td>8</td>\n",
       "    </tr>\n",
       "    <tr>\n",
       "      <th>9</th>\n",
       "      <td>rec.sport.baseball</td>\n",
       "      <td>Newsgroup: rec.sport.baseball\\ndocument_id: 10...</td>\n",
       "      <td>9</td>\n",
       "    </tr>\n",
       "    <tr>\n",
       "      <th>10</th>\n",
       "      <td>rec.sport.hockey</td>\n",
       "      <td>Newsgroup: rec.sport.hockey\\ndocument_id: 5255...</td>\n",
       "      <td>10</td>\n",
       "    </tr>\n",
       "    <tr>\n",
       "      <th>11</th>\n",
       "      <td>sci.crypt</td>\n",
       "      <td>Newsgroup: sci.crypt\\ndocument_id: 14147\\nFrom...</td>\n",
       "      <td>11</td>\n",
       "    </tr>\n",
       "    <tr>\n",
       "      <th>12</th>\n",
       "      <td>sci.electronics</td>\n",
       "      <td>Newsgroup: sci.electronics\\ndocument_id: 52434...</td>\n",
       "      <td>12</td>\n",
       "    </tr>\n",
       "    <tr>\n",
       "      <th>13</th>\n",
       "      <td>sci.med</td>\n",
       "      <td>Newsgroup: sci.med\\ndocument_id: 57110\\nFrom: ...</td>\n",
       "      <td>13</td>\n",
       "    </tr>\n",
       "    <tr>\n",
       "      <th>14</th>\n",
       "      <td>sci.space</td>\n",
       "      <td>Newsgroup: sci.space\\ndocument_id: 59497\\nFrom...</td>\n",
       "      <td>14</td>\n",
       "    </tr>\n",
       "    <tr>\n",
       "      <th>15</th>\n",
       "      <td>soc.religion.christian</td>\n",
       "      <td>Newsgroup: soc.religion.christian\\ndocument_id...</td>\n",
       "      <td>15</td>\n",
       "    </tr>\n",
       "    <tr>\n",
       "      <th>16</th>\n",
       "      <td>talk.politics.guns</td>\n",
       "      <td>Newsgroup: talk.politics.guns\\ndocument_id: 53...</td>\n",
       "      <td>16</td>\n",
       "    </tr>\n",
       "    <tr>\n",
       "      <th>17</th>\n",
       "      <td>talk.politics.mideast</td>\n",
       "      <td>Newsgroup: talk.politics.mideast\\ndocument_id:...</td>\n",
       "      <td>17</td>\n",
       "    </tr>\n",
       "    <tr>\n",
       "      <th>18</th>\n",
       "      <td>talk.politics.misc</td>\n",
       "      <td>Newsgroup: talk.politics.misc\\ndocument_id: 12...</td>\n",
       "      <td>18</td>\n",
       "    </tr>\n",
       "    <tr>\n",
       "      <th>19</th>\n",
       "      <td>talk.religion.misc</td>\n",
       "      <td>Newsgroup: talk.religion.misc\\ndocument_id: 82...</td>\n",
       "      <td>19</td>\n",
       "    </tr>\n",
       "  </tbody>\n",
       "</table>\n",
       "</div>"
      ],
      "text/plain": [
       "                    category  \\\n",
       "0                alt.atheism   \n",
       "1              comp.graphics   \n",
       "2    comp.os.ms-windows.misc   \n",
       "3   comp.sys.ibm.pc.hardware   \n",
       "4      comp.sys.mac.hardware   \n",
       "5             comp.windows.x   \n",
       "6               misc.forsale   \n",
       "7                  rec.autos   \n",
       "8            rec.motorcycles   \n",
       "9         rec.sport.baseball   \n",
       "10          rec.sport.hockey   \n",
       "11                 sci.crypt   \n",
       "12           sci.electronics   \n",
       "13                   sci.med   \n",
       "14                 sci.space   \n",
       "15    soc.religion.christian   \n",
       "16        talk.politics.guns   \n",
       "17     talk.politics.mideast   \n",
       "18        talk.politics.misc   \n",
       "19        talk.religion.misc   \n",
       "\n",
       "                                             articles  b_labels  \n",
       "0   From: mathew <mathew@mantis.co.uk>\\nSubject: A...         0  \n",
       "1   From: lipman@oasys.dt.navy.mil (Robert Lipman)...         1  \n",
       "2   Newsgroup: comp.os.ms-windows.misc\\ndocument_i...         2  \n",
       "3   Newsgroup: comp.sys.ibm.pc.hardware\\ndocument_...         3  \n",
       "4   Newsgroup: comp.sys.mac.hardware\\ndocument_id:...         4  \n",
       "5   Newsgroup: comp.windows.x\\ndocument_id: 64830\\...         5  \n",
       "6   Newsgroup: misc.forsale\\ndocument_id: 70337\\nF...         6  \n",
       "7   Newsgroup: rec.autos\\ndocument_id: 101551\\nFro...         7  \n",
       "8   Newsgroup: rec.motorcycles\\ndocument_id: 10172...         8  \n",
       "9   Newsgroup: rec.sport.baseball\\ndocument_id: 10...         9  \n",
       "10  Newsgroup: rec.sport.hockey\\ndocument_id: 5255...        10  \n",
       "11  Newsgroup: sci.crypt\\ndocument_id: 14147\\nFrom...        11  \n",
       "12  Newsgroup: sci.electronics\\ndocument_id: 52434...        12  \n",
       "13  Newsgroup: sci.med\\ndocument_id: 57110\\nFrom: ...        13  \n",
       "14  Newsgroup: sci.space\\ndocument_id: 59497\\nFrom...        14  \n",
       "15  Newsgroup: soc.religion.christian\\ndocument_id...        15  \n",
       "16  Newsgroup: talk.politics.guns\\ndocument_id: 53...        16  \n",
       "17  Newsgroup: talk.politics.mideast\\ndocument_id:...        17  \n",
       "18  Newsgroup: talk.politics.misc\\ndocument_id: 12...        18  \n",
       "19  Newsgroup: talk.religion.misc\\ndocument_id: 82...        19  "
      ]
     },
     "execution_count": 8,
     "metadata": {},
     "output_type": "execute_result"
    }
   ],
   "source": [
    "dataframe"
   ]
  },
  {
   "cell_type": "code",
   "execution_count": 32,
   "id": "alternate-latino",
   "metadata": {},
   "outputs": [],
   "source": []
  },
  {
   "cell_type": "code",
   "execution_count": 33,
   "id": "middle-minnesota",
   "metadata": {},
   "outputs": [],
   "source": []
  },
  {
   "cell_type": "code",
   "execution_count": 9,
   "id": "normal-nevada",
   "metadata": {},
   "outputs": [
    {
     "data": {
      "text/plain": [
       "array([ 0,  1,  2,  3,  4,  5,  6,  7,  8,  9, 10, 11, 12, 13, 14, 15, 16,\n",
       "       17, 18, 19], dtype=int64)"
      ]
     },
     "execution_count": 9,
     "metadata": {},
     "output_type": "execute_result"
    }
   ],
   "source": [
    "Y"
   ]
  },
  {
   "cell_type": "code",
   "execution_count": 10,
   "id": "downtown-vessel",
   "metadata": {},
   "outputs": [],
   "source": [
    "MAX_VOCAB_SIZE=200000\n",
    "tokenizer = Tokenizer(num_words=MAX_VOCAB_SIZE)"
   ]
  },
  {
   "cell_type": "code",
   "execution_count": 11,
   "id": "british-allocation",
   "metadata": {},
   "outputs": [],
   "source": [
    "tokenizer.fit_on_texts(dataframe['articles'])"
   ]
  },
  {
   "cell_type": "code",
   "execution_count": 12,
   "id": "knowing-obligation",
   "metadata": {},
   "outputs": [],
   "source": [
    "sequence_train=tokenizer.texts_to_sequences(dataframe['articles'])\n",
    "sequence_test=tokenizer.texts_to_sequences(testing['articles'])"
   ]
  },
  {
   "cell_type": "code",
   "execution_count": 13,
   "id": "vietnamese-consultation",
   "metadata": {},
   "outputs": [
    {
     "name": "stdout",
     "output_type": "stream",
     "text": [
      "Found 190934 unique tokens.\n"
     ]
    }
   ],
   "source": [
    "word2idx=tokenizer.word_index\n",
    "V=len(word2idx)\n",
    "print(\"Found %s unique tokens.\" %V)"
   ]
  },
  {
   "cell_type": "code",
   "execution_count": 14,
   "id": "fancy-fraction",
   "metadata": {},
   "outputs": [
    {
     "name": "stdout",
     "output_type": "stream",
     "text": [
      "Shape of data train tensor:  (20, 1002128)\n"
     ]
    }
   ],
   "source": [
    "data_train=pad_sequences(sequence_train)\n",
    "print(\"Shape of data train tensor: \",data_train.shape)\n",
    "T=data_train.shape[1]"
   ]
  },
  {
   "cell_type": "code",
   "execution_count": 15,
   "id": "graphic-dining",
   "metadata": {},
   "outputs": [
    {
     "name": "stdout",
     "output_type": "stream",
     "text": [
      "Shape of data test tensor:  (3, 1002128)\n"
     ]
    }
   ],
   "source": [
    "data_test=pad_sequences(sequence_test,maxlen=T)\n",
    "print(\"Shape of data test tensor: \",data_test.shape)\n"
   ]
  },
  {
   "cell_type": "code",
   "execution_count": 16,
   "id": "arctic-romantic",
   "metadata": {},
   "outputs": [],
   "source": [
    "D=20\n",
    "M=15\n",
    "i=Input(shape=(T,))\n",
    "x=Embedding(V+1,D)(i)\n",
    "x=LSTM(M,return_sequences=True)(x)\n",
    "x=GlobalMaxPooling1D()(x)\n",
    "x=Dense(20,activation='softmax')(x)\n",
    "model=Model(i,x)"
   ]
  },
  {
   "cell_type": "code",
   "execution_count": 17,
   "id": "blessed-aquatic",
   "metadata": {},
   "outputs": [],
   "source": [
    "model.compile(\n",
    "        loss='sparse_categorical_crossentropy',\n",
    "optimizer='adam',\n",
    "metrics=['accuracy'])\n",
    "\n"
   ]
  },
  {
   "cell_type": "code",
   "execution_count": 18,
   "id": "brilliant-breed",
   "metadata": {},
   "outputs": [],
   "source": [
    "Ytest=testing['b_labels'].values"
   ]
  },
  {
   "cell_type": "code",
   "execution_count": 19,
   "id": "broke-depression",
   "metadata": {},
   "outputs": [
    {
     "data": {
      "text/plain": [
       "array([[    0,     0,     0, ..., 11975,  7424, 27199],\n",
       "       [    0,     0,     0, ...,   207,     6,   716],\n",
       "       [   31,   119,   348, ...,    16,   177,   207],\n",
       "       ...,\n",
       "       [    0,     0,     0, ...,   488, 16826, 14403],\n",
       "       [    0,     0,     0, ...,  8629, 14610,   985],\n",
       "       [    0,     0,     0, ...,     3,     1,  1663]])"
      ]
     },
     "execution_count": 19,
     "metadata": {},
     "output_type": "execute_result"
    }
   ],
   "source": [
    "data_train"
   ]
  },
  {
   "cell_type": "code",
   "execution_count": 20,
   "id": "located-pacific",
   "metadata": {},
   "outputs": [
    {
     "data": {
      "text/plain": [
       "array([ 0,  1,  2,  3,  4,  5,  6,  7,  8,  9, 10, 11, 12, 13, 14, 15, 16,\n",
       "       17, 18, 19], dtype=int64)"
      ]
     },
     "execution_count": 20,
     "metadata": {},
     "output_type": "execute_result"
    }
   ],
   "source": [
    "Y"
   ]
  },
  {
   "cell_type": "code",
   "execution_count": 21,
   "id": "pressed-tracy",
   "metadata": {},
   "outputs": [
    {
     "data": {
      "text/plain": [
       "array([[   0,    0,    0, ...,   11,  253,   50],\n",
       "       [   0,    0,    0, ..., 1183,  182,   35],\n",
       "       [   0,    0,    0, ...,    1, 4183, 1206]])"
      ]
     },
     "execution_count": 21,
     "metadata": {},
     "output_type": "execute_result"
    }
   ],
   "source": [
    "data_test"
   ]
  },
  {
   "cell_type": "code",
   "execution_count": 22,
   "id": "developmental-barrel",
   "metadata": {},
   "outputs": [
    {
     "data": {
      "text/plain": [
       "array([ 9, 14, 17], dtype=int64)"
      ]
     },
     "execution_count": 22,
     "metadata": {},
     "output_type": "execute_result"
    }
   ],
   "source": [
    "Ytest"
   ]
  },
  {
   "cell_type": "code",
   "execution_count": 23,
   "id": "severe-laptop",
   "metadata": {},
   "outputs": [],
   "source": [
    "pd.DataFrame(data_train).to_csv('news.csv')"
   ]
  },
  {
   "cell_type": "code",
   "execution_count": null,
   "id": "lonely-designation",
   "metadata": {},
   "outputs": [
    {
     "name": "stdout",
     "output_type": "stream",
     "text": [
      "Training model....\n",
      "Epoch 1/5\n"
     ]
    }
   ],
   "source": [
    "print(\"Training model....\")\n",
    "r=model.fit(\n",
    "data_train,\n",
    "Y,\n",
    "epochs=5,\n",
    "validation_data=(data_test,Ytest))"
   ]
  },
  {
   "cell_type": "code",
   "execution_count": null,
   "id": "industrial-position",
   "metadata": {},
   "outputs": [],
   "source": []
  }
 ],
 "metadata": {
  "kernelspec": {
   "display_name": "Python 3",
   "language": "python",
   "name": "python3"
  },
  "language_info": {
   "codemirror_mode": {
    "name": "ipython",
    "version": 3
   },
   "file_extension": ".py",
   "mimetype": "text/x-python",
   "name": "python",
   "nbconvert_exporter": "python",
   "pygments_lexer": "ipython3",
   "version": "3.8.8"
  }
 },
 "nbformat": 4,
 "nbformat_minor": 5
}
